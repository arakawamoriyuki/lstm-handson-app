{
 "cells": [
  {
   "cell_type": "code",
   "execution_count": null,
   "metadata": {
    "collapsed": true
   },
   "outputs": [],
   "source": [
    "%matplotlib inline"
   ]
  },
  {
   "cell_type": "code",
   "execution_count": null,
   "metadata": {
    "collapsed": true
   },
   "outputs": [],
   "source": [
    "# 単変量LSTMでsin波予測 (チュートリアルとして規則性のあるデータを予測)"
   ]
  },
  {
   "cell_type": "code",
   "execution_count": null,
   "metadata": {
    "collapsed": true
   },
   "outputs": [],
   "source": [
    "# データ"
   ]
  },
  {
   "cell_type": "code",
   "execution_count": null,
   "metadata": {
    "collapsed": true
   },
   "outputs": [],
   "source": [
    "import numpy as np\n",
    "import matplotlib.pyplot as plt"
   ]
  },
  {
   "cell_type": "code",
   "execution_count": null,
   "metadata": {
    "collapsed": true
   },
   "outputs": [],
   "source": [
    "# sin波生成\n",
    "def sin(length=100, curve=4):\n",
    "    x = np.arange(0, length)\n",
    "    return np.sin((curve * np.pi) * x / length)"
   ]
  },
  {
   "cell_type": "code",
   "execution_count": null,
   "metadata": {
    "collapsed": false
   },
   "outputs": [],
   "source": [
    "plt.plot(sin())\n",
    "plt.show()"
   ]
  },
  {
   "cell_type": "code",
   "execution_count": null,
   "metadata": {
    "collapsed": true
   },
   "outputs": [],
   "source": [
    "# ノイズ付きsin波\n",
    "def noised_sin(length=100, curve=4, noise_rate=0.1, low=-1.0, high=1.0):\n",
    "    x = sin(length=length, curve=curve)\n",
    "    noise = noise_rate * np.random.uniform(low=low, high=high, size=len(x))\n",
    "    return x + noise"
   ]
  },
  {
   "cell_type": "code",
   "execution_count": null,
   "metadata": {
    "collapsed": false
   },
   "outputs": [],
   "source": [
    "plt.plot(noised_sin())\n",
    "plt.show()"
   ]
  },
  {
   "cell_type": "code",
   "execution_count": null,
   "metadata": {
    "collapsed": true
   },
   "outputs": [],
   "source": [
    "# 学習用時系列データとして整形\n",
    "def create_reccurent_dataset(vector_data, step=25):\n",
    "    data, target = [], []\n",
    "    for i in range(len(vector_data) - step):\n",
    "        data.append(vector_data[i:(i + step)])\n",
    "        target.append(vector_data[i + step])\n",
    "    reshape_data = np.array(data).reshape(len(data), step, 1)\n",
    "    reshape_label = np.array(target).reshape(len(data), 1)\n",
    "    return reshape_data, reshape_label"
   ]
  },
  {
   "cell_type": "code",
   "execution_count": null,
   "metadata": {
    "collapsed": true
   },
   "outputs": [],
   "source": [
    "# 形状と内容の確認\n",
    "train_data, train_label = create_reccurent_dataset([1,2,3,4,5,6,7,8,9], 3)"
   ]
  },
  {
   "cell_type": "code",
   "execution_count": null,
   "metadata": {
    "collapsed": false
   },
   "outputs": [],
   "source": [
    "# 学習データ、stepで区切った時系列データ、3次元配列\n",
    "# なぜ3次元なのか = 他にも気温、湿度、曜日など予測に役立ちそうなデータを入れられる。\n",
    "# 今回は1個のデータのみ\n",
    "# (学習データ総数, 1学習の時系列数(ステップ数), 特徴量)\n",
    "print(train_data.shape)\n",
    "print(train_data)"
   ]
  },
  {
   "cell_type": "code",
   "execution_count": null,
   "metadata": {
    "collapsed": false
   },
   "outputs": [],
   "source": [
    "# 答えラベル、次に来るべき値、2次元配列\n",
    "print(train_label.shape)\n",
    "print(train_label)"
   ]
  },
  {
   "cell_type": "code",
   "execution_count": null,
   "metadata": {
    "collapsed": true
   },
   "outputs": [],
   "source": [
    "# ノイズ付きsin波予測\n",
    "data = noised_sin(length=100, curve=4, noise_rate=0.1)\n",
    "train_data, train_label = create_reccurent_dataset(data, step=25)"
   ]
  },
  {
   "cell_type": "code",
   "execution_count": null,
   "metadata": {
    "collapsed": false
   },
   "outputs": [],
   "source": [
    "train_data.shape"
   ]
  },
  {
   "cell_type": "code",
   "execution_count": null,
   "metadata": {
    "collapsed": false
   },
   "outputs": [],
   "source": [
    "train_label.shape"
   ]
  },
  {
   "cell_type": "code",
   "execution_count": null,
   "metadata": {
    "collapsed": true
   },
   "outputs": [],
   "source": [
    "# モデル構築"
   ]
  },
  {
   "cell_type": "code",
   "execution_count": null,
   "metadata": {
    "collapsed": true
   },
   "outputs": [],
   "source": [
    "# 時系列(長短期記憶)学習モデルの種類\n",
    "# RNN, LSTM, [QRNN](https://qiita.com/icoxfog417/items/d77912e10a7c60ae680e)...他\n",
    "# LSTM\n",
    "#   LSTM(1D) 例: 1次元の時系列データを入力として利用する\n",
    "#   ConvLSTM2D 例: 動画を時系列データを入力として利用する\n",
    "#   ConvLSTM3D 例: 空間の変化を時系列データを入力として利用する"
   ]
  },
  {
   "cell_type": "code",
   "execution_count": null,
   "metadata": {
    "collapsed": true
   },
   "outputs": [],
   "source": [
    "from tensorflow.python.keras.models import Sequential\n",
    "from tensorflow.python.keras.layers import Dense, Activation, LSTM\n",
    "from tensorflow.python.keras.optimizers import Adam\n",
    "from tensorflow.python.keras.callbacks import EarlyStopping"
   ]
  },
  {
   "cell_type": "code",
   "execution_count": null,
   "metadata": {
    "collapsed": true
   },
   "outputs": [],
   "source": [
    "step_count = 25 # 1つの学習データのStep数(今回は25)\n",
    "feature_count = 1 # 特徴量 今回の学習するデータは1個のみ\n",
    "hidden_unit_count = 300 # 中間層の数だと思う (公式は:出力の次元数?) https://keras.io/ja/layers/recurrent/#lstm"
   ]
  },
  {
   "cell_type": "code",
   "execution_count": null,
   "metadata": {
    "collapsed": true
   },
   "outputs": [],
   "source": [
    "model = Sequential()\n",
    "model.add(LSTM(hidden_unit_count, batch_input_shape=(None, step_count, feature_count), return_sequences=False))\n",
    "model.add(Dense(1))\n",
    "model.add(Activation('linear'))\n",
    "optimizer = Adam(lr=0.001)\n",
    "model.compile(loss='mean_squared_error', optimizer=optimizer)"
   ]
  },
  {
   "cell_type": "code",
   "execution_count": null,
   "metadata": {
    "collapsed": false
   },
   "outputs": [],
   "source": [
    "model.output_shape"
   ]
  },
  {
   "cell_type": "code",
   "execution_count": null,
   "metadata": {
    "collapsed": true
   },
   "outputs": [],
   "source": [
    "# 早期終了 過学習抑制、打ち切る手法 過学習(Over fitting)に陥ることを避けつつ、簡単にエポック数を考える手間を減らすことができる\n",
    "# 30~50epochsくらいで十分学習できたと判断して終了するはず\n",
    "early_stopping = EarlyStopping(monitor='val_loss', mode='auto', patience=20)"
   ]
  },
  {
   "cell_type": "code",
   "execution_count": null,
   "metadata": {
    "collapsed": false
   },
   "outputs": [],
   "source": [
    "# トレーニング\n",
    "model.fit(\n",
    "    train_data, train_label,\n",
    "    batch_size=300,\n",
    "    epochs=100,\n",
    "    validation_split=0.1,\n",
    "    callbacks=[early_stopping]\n",
    ")"
   ]
  },
  {
   "cell_type": "code",
   "execution_count": null,
   "metadata": {
    "collapsed": true
   },
   "outputs": [],
   "source": [
    "# 推論、検証\n",
    "predictions = model.predict(train_data)"
   ]
  },
  {
   "cell_type": "code",
   "execution_count": null,
   "metadata": {
    "collapsed": false
   },
   "outputs": [],
   "source": [
    "plt.figure()\n",
    "plt.plot(range(0, len(predictions)), predictions, color='r', label='predictions')\n",
    "plt.plot(range(0, len(train_label)), train_label, color='b', label='training_data')\n",
    "plt.legend()\n",
    "plt.show()"
   ]
  },
  {
   "cell_type": "code",
   "execution_count": null,
   "metadata": {
    "collapsed": true
   },
   "outputs": [],
   "source": [
    "# 未来予測\n",
    "latest_data = train_data[len(train_data)-1]\n",
    "results = np.empty((0, 0))\n",
    "for _ in range(50):\n",
    "    # 推論\n",
    "    test_data = np.reshape(latest_data, (1, 25, 1))\n",
    "    batch_predict = model.predict(test_data)\n",
    "\n",
    "    # 結果蓄積\n",
    "    results = np.append(results, batch_predict)\n",
    "\n",
    "    # 次のデータをセット\n",
    "    latest_data = np.delete(latest_data, 0)\n",
    "    latest_data = np.append(latest_data, batch_predict)\n",
    "\n",
    "# (50)から(50,1)に形状を変える\n",
    "results = np.reshape(results, (results.shape[0], 1))"
   ]
  },
  {
   "cell_type": "code",
   "execution_count": null,
   "metadata": {
    "collapsed": false
   },
   "outputs": [],
   "source": [
    "plt.figure()\n",
    "plt.plot(range(0, len(predictions)), predictions, color='r', label='predictions')\n",
    "plt.plot(range(0, len(train_label)), train_label, color='b', label='training_data')\n",
    "plt.plot(range(len(train_label)-1, len(train_label)-1+len(results)), results, color='g', label='future_predictions')\n",
    "plt.legend()\n",
    "plt.show()"
   ]
  },
  {
   "cell_type": "code",
   "execution_count": null,
   "metadata": {
    "collapsed": false
   },
   "outputs": [],
   "source": [
    "# 多変量LSTMでアイスクリームの売り上げ予測 (ある程度規則性のあるデータで、売上だけではなく気温なども考慮した予測)\n",
    "# 参考データ(使いやすいように加工してます): https://oku.edu.mie-u.ac.jp/~okumura/stat/160118.html\n",
    "\n",
    "import pandas"
   ]
  },
  {
   "cell_type": "code",
   "execution_count": null,
   "metadata": {
    "collapsed": false
   },
   "outputs": [],
   "source": [
    "data = pandas.read_csv('volume/datasets/tokyo-weather-and-ice-sales.csv')\n",
    "data"
   ]
  },
  {
   "cell_type": "code",
   "execution_count": null,
   "metadata": {
    "collapsed": false
   },
   "outputs": [],
   "source": [
    "# year, month, avg_max_temperature, sum_precipitation_mm, avg_humidity_per, 25c_days, ice_sale\n",
    "plt.plot(data['avg_max_temperature'], label='avg_max_temperature') # 最大気温平均\n",
    "plt.plot(data['sum_precipitation_mm'], label='sum_precipitation_mm') # 合計降水量\n",
    "plt.plot(data['avg_humidity_per'], label='avg_humidity_per') # 平均湿度\n",
    "plt.plot(data['25c_days'], label='25c_days') # 25度以上の日数\n",
    "plt.plot(data['ice_sale'], label='ice_sale') # アイスの売り上げ(円)\n",
    "plt.legend()\n",
    "plt.show()"
   ]
  },
  {
   "cell_type": "code",
   "execution_count": null,
   "metadata": {
    "collapsed": false
   },
   "outputs": [],
   "source": [
    "# 最大気温平均, 合計降水量, 平均湿度, 25度以上の日数をもとに`アイスの売り上げ(円)`を予測します\n",
    "\n",
    "temps = data['avg_max_temperature'].values.tolist() # 配列化\n",
    "temps = np.array(temps).reshape((len(temps), 1)) # 形状変更 (120, 1)\n",
    "print(temps.shape)\n",
    "\n",
    "precs = data['sum_precipitation_mm'].values.tolist() # 配列化\n",
    "precs = np.array(precs).reshape((len(precs), 1)) # 形状変更 (120, 1)\n",
    "print(precs.shape)\n",
    "\n",
    "humidities = data['avg_humidity_per'].values.tolist() # 配列化\n",
    "humidities = np.array(humidities).reshape((len(humidities), 1)) # 形状変更 (120, 1)\n",
    "print(humidities.shape)\n",
    "\n",
    "up25days = data['25c_days'].values.tolist() # 配列化\n",
    "up25days = np.array(up25days).reshape((len(up25days), 1)) # 形状変更 (120, 1)\n",
    "print(up25days.shape)\n",
    "\n",
    "icesales = data['ice_sale'].values.tolist() # 配列化\n",
    "icesales = np.array(icesales).reshape((len(icesales), 1)) # 形状変更 (120, 1)\n",
    "print(icesales.shape)"
   ]
  },
  {
   "cell_type": "code",
   "execution_count": null,
   "metadata": {
    "collapsed": false
   },
   "outputs": [],
   "source": [
    "# 標準化\n",
    "# すべての値を0~1の範囲に納める\n",
    "from sklearn.preprocessing import MinMaxScaler\n",
    "scaler = MinMaxScaler(feature_range=(0, 1))\n",
    "\n",
    "normalized_temps = scaler.fit_transform(temps)\n",
    "normalized_precs = scaler.fit_transform(precs)\n",
    "normalized_humidities = scaler.fit_transform(humidities)\n",
    "normalized_up25days = scaler.fit_transform(up25days)\n",
    "normalized_icesales = scaler.fit_transform(icesales)"
   ]
  },
  {
   "cell_type": "code",
   "execution_count": null,
   "metadata": {
    "collapsed": false
   },
   "outputs": [],
   "source": [
    "normalized_icesales[0:10]"
   ]
  },
  {
   "cell_type": "code",
   "execution_count": null,
   "metadata": {
    "collapsed": false
   },
   "outputs": [],
   "source": [
    "# 一年周期で変動する月のデータなので12step\n",
    "# 余談、ちょくちょくデータ内容確認した方がいい。normalized_icesalesをicesalesとtypoしてicesalesだけ300倍率くらいのデータになって学習時にハマる。。\n",
    "temps_train_data, temps_train_label = create_reccurent_dataset(normalized_temps, step=12)\n",
    "precs_train_data, precs_train_label = create_reccurent_dataset(normalized_precs, step=12)\n",
    "up25days_train_data, up25days_train_label = create_reccurent_dataset(normalized_up25days, step=12)\n",
    "humidities_train_data, humidities_train_label = create_reccurent_dataset(normalized_humidities, step=12)\n",
    "icesales_train_data, icesales_train_label = create_reccurent_dataset(normalized_icesales, step=12)\n",
    "print(temps_train_data.shape)\n",
    "print(temps_train_label.shape)\n",
    "print(precs_train_data.shape)\n",
    "print(precs_train_label.shape)\n",
    "print(up25days_train_data.shape)\n",
    "print(up25days_train_label.shape)\n",
    "print(humidities_train_data.shape)\n",
    "print(humidities_train_label.shape)\n",
    "print(icesales_train_data.shape)\n",
    "print(icesales_train_label.shape)"
   ]
  },
  {
   "cell_type": "code",
   "execution_count": null,
   "metadata": {
    "collapsed": false
   },
   "outputs": [],
   "source": [
    "# 推論する際の形状 = (個数, ステップ数, 特徴量(最大気温平均, 合計降水量, 平均湿度, 25度以上の日数))\n",
    "# 今回の推論時の形状 = (個数, 12, 5)\n",
    "# 入力も出力も最大気温平均, 合計降水量, 平均湿度, 25度以上の日数, アイスの売り上げ(円)の5つ\n",
    "train_data = np.c_[temps_train_data, precs_train_data, up25days_train_data, humidities_train_data, icesales_train_data]\n",
    "train_label = np.c_[temps_train_label, precs_train_label, up25days_train_label, humidities_train_label, icesales_train_label]\n",
    "print(train_data.shape)\n",
    "print(train_label.shape)\n",
    "\n",
    "# train_data[0:5]\n",
    "# train_label[0:5]"
   ]
  },
  {
   "cell_type": "code",
   "execution_count": null,
   "metadata": {
    "collapsed": false
   },
   "outputs": [],
   "source": [
    "# モデル構築\n",
    "step_count = 12\n",
    "feature_count = 5\n",
    "hidden_unit_count = 120\n",
    "\n",
    "model = Sequential()\n",
    "model.add(LSTM(hidden_unit_count, batch_input_shape=(None, step_count, feature_count)))\n",
    "model.add(Dense(feature_count))\n",
    "model.add(Activation('linear'))\n",
    "optimizer = Adam(lr=0.003)\n",
    "model.compile(loss='mean_squared_error', optimizer=optimizer)\n",
    "early_stopping = EarlyStopping(monitor='val_loss', mode='auto', patience=20)"
   ]
  },
  {
   "cell_type": "code",
   "execution_count": null,
   "metadata": {
    "collapsed": false
   },
   "outputs": [],
   "source": [
    "# トレーニング\n",
    "model.fit(\n",
    "    train_data, train_label,\n",
    "    batch_size=2000,\n",
    "    epochs=200,\n",
    "    validation_split=0.1,\n",
    "    callbacks=[early_stopping]\n",
    ")"
   ]
  },
  {
   "cell_type": "code",
   "execution_count": null,
   "metadata": {
    "collapsed": false
   },
   "outputs": [],
   "source": [
    "# 推論、検証\n",
    "predictions = model.predict(train_data)\n",
    "predictions[0:5]"
   ]
  },
  {
   "cell_type": "code",
   "execution_count": null,
   "metadata": {
    "collapsed": false,
    "scrolled": true
   },
   "outputs": [],
   "source": [
    "# 最大気温平均\n",
    "plt.figure()\n",
    "plt.plot(range(0, len(train_label)), train_label[:,0], color=(1.0, 0.7, 0.7), label='train_label temp')\n",
    "plt.plot(range(0, len(predictions)), predictions[:,0], color=(1.0, 0.0, 0.0), label='predictions temp')\n",
    "plt.legend()\n",
    "plt.show()"
   ]
  },
  {
   "cell_type": "code",
   "execution_count": null,
   "metadata": {
    "collapsed": false
   },
   "outputs": [],
   "source": [
    "# 合計降水量\n",
    "plt.figure()\n",
    "plt.plot(range(0, len(train_label)), train_label[:,1], color=(0.7, 0.7, 1.0), label='train_label prec')\n",
    "plt.plot(range(0, len(predictions)), predictions[:,1], color=(0.0, 0.0, 1.0), label='predictions prec')\n",
    "plt.legend()\n",
    "plt.show()"
   ]
  },
  {
   "cell_type": "code",
   "execution_count": null,
   "metadata": {
    "collapsed": false
   },
   "outputs": [],
   "source": [
    "# 平均湿度\n",
    "plt.figure()\n",
    "plt.plot(range(0, len(train_label)), train_label[:,2], color=(0.7, 1.0, 1.0), label='train_label humidity')\n",
    "plt.plot(range(0, len(predictions)), predictions[:,2], color=(0.0, 1.0, 1.0), label='predictions humidity')\n",
    "plt.legend()\n",
    "plt.show()"
   ]
  },
  {
   "cell_type": "code",
   "execution_count": null,
   "metadata": {
    "collapsed": false
   },
   "outputs": [],
   "source": [
    "# 25度以上の日数\n",
    "plt.figure()\n",
    "plt.plot(range(0, len(train_label)), train_label[:,3], color=(1.0, 1.0, 0.7), label='train_label 25c_days')\n",
    "plt.plot(range(0, len(predictions)), predictions[:,3], color=(1.0, 1.0, 0.0), label='predictions 25c_days')\n",
    "plt.legend()\n",
    "plt.show()"
   ]
  },
  {
   "cell_type": "code",
   "execution_count": null,
   "metadata": {
    "collapsed": false
   },
   "outputs": [],
   "source": [
    "# アイスの売り上げ\n",
    "plt.figure()\n",
    "plt.plot(range(0, len(train_label)), train_label[:,4], color=(0.7, 1.0, 1.0), label='train_label ice_sale')\n",
    "plt.plot(range(0, len(predictions)), predictions[:,4], color=(0.0, 1.0, 1.0), label='predictions ice_sale')\n",
    "plt.legend()\n",
    "plt.show()"
   ]
  },
  {
   "cell_type": "code",
   "execution_count": null,
   "metadata": {
    "collapsed": false
   },
   "outputs": [],
   "source": [
    "# すべて\n",
    "plt.figure()\n",
    "plt.plot(range(0, len(train_label)), train_label[:,0], color=(1.0, 0.7, 0.7), label='train_label temp')\n",
    "plt.plot(range(0, len(predictions)), predictions[:,0], color=(1.0, 0.0, 0.0), label='predictions temp')\n",
    "plt.plot(range(0, len(train_label)), train_label[:,1], color=(0.7, 0.7, 1.0), label='train_label prec')\n",
    "plt.plot(range(0, len(predictions)), predictions[:,1], color=(0.0, 0.0, 1.0), label='predictions prec')\n",
    "plt.plot(range(0, len(train_label)), train_label[:,2], color=(0.7, 1.0, 1.0), label='train_label humidity')\n",
    "plt.plot(range(0, len(predictions)), predictions[:,2], color=(0.0, 1.0, 1.0), label='predictions humidity')\n",
    "plt.plot(range(0, len(train_label)), train_label[:,3], color=(1.0, 1.0, 0.7), label='train_label 25c_days')\n",
    "plt.plot(range(0, len(predictions)), predictions[:,3], color=(1.0, 1.0, 0.0), label='predictions 25c_days')\n",
    "plt.plot(range(0, len(train_label)), train_label[:,4], color=(0.7, 1.0, 1.0), label='train_label ice_sale')\n",
    "plt.plot(range(0, len(predictions)), predictions[:,4], color=(0.0, 1.0, 1.0), label='predictions ice_sale')\n",
    "plt.legend()\n",
    "plt.show()"
   ]
  },
  {
   "cell_type": "code",
   "execution_count": null,
   "metadata": {
    "collapsed": false
   },
   "outputs": [],
   "source": [
    "# 未来予測 5ヶ月後\n",
    "latest_data = np.array([train_data[len(train_data)-1]])\n",
    "results = []\n",
    "for _ in range(5):\n",
    "    # 推論\n",
    "    print(latest_data.shape)\n",
    "    batch_predict = model.predict(latest_data)\n",
    "    # 結果蓄積\n",
    "    results.append([batch_predict[0][0], batch_predict[0][1], batch_predict[0][2], batch_predict[0][3], batch_predict[0][4]])\n",
    "    # 次のデータをセット\n",
    "    latest_data = np.delete(latest_data, np.array([batch_predict]), axis=1)\n",
    "    latest_data = np.append(latest_data, np.array([batch_predict]), axis=1)\n",
    "results = np.array(results)\n",
    "results.shape"
   ]
  },
  {
   "cell_type": "code",
   "execution_count": null,
   "metadata": {
    "collapsed": false
   },
   "outputs": [],
   "source": [
    "plt.figure()\n",
    "\n",
    "plt.plot(range(0, len(train_label)), train_label[:,0], color=(1.0, 0.7, 0.7), label='train_label temp')\n",
    "plt.plot(range(0, len(train_label)), train_label[:,1], color=(0.7, 0.7, 1.0), label='train_label prec')\n",
    "plt.plot(range(0, len(train_label)), train_label[:,2], color=(0.7, 1.0, 1.0), label='train_label humidity ')\n",
    "plt.plot(range(0, len(train_label)), train_label[:,3], color=(1.0, 1.0, 0.7), label='train_label 25c_days')\n",
    "plt.plot(range(0, len(train_label)), train_label[:,4], color=(0.7, 1.0, 1.0), label='train_label ice_sale')\n",
    "\n",
    "plt.plot(range(len(train_label)-1, len(train_label)-1+len(results)), results[:,0], color=(1.0, 0.0, 0.0), label='future temp')\n",
    "plt.plot(range(len(train_label)-1, len(train_label)-1+len(results)), results[:,1], color=(0.0, 0.0, 1.0), label='future prec')\n",
    "plt.plot(range(len(train_label)-1, len(train_label)-1+len(results)), results[:,2], color=(0.0, 1.0, 1.0), label='future humidity')\n",
    "plt.plot(range(len(train_label)-1, len(train_label)-1+len(results)), results[:,3], color=(1.0, 1.0, 0.0), label='future 25c_days')\n",
    "plt.plot(range(len(train_label)-1, len(train_label)-1+len(results)), results[:,4], color=(0.0, 1.0, 1.0), label='future ice_sales')\n",
    "\n",
    "plt.legend()\n",
    "plt.show()"
   ]
  },
  {
   "cell_type": "code",
   "execution_count": null,
   "metadata": {
    "collapsed": true
   },
   "outputs": [],
   "source": []
  },
  {
   "cell_type": "code",
   "execution_count": null,
   "metadata": {
    "collapsed": true
   },
   "outputs": [],
   "source": [
    "# pybitflyer データ取得"
   ]
  },
  {
   "cell_type": "code",
   "execution_count": null,
   "metadata": {
    "collapsed": true
   },
   "outputs": [],
   "source": [
    "import pybitflyer"
   ]
  },
  {
   "cell_type": "code",
   "execution_count": null,
   "metadata": {
    "collapsed": false
   },
   "outputs": [],
   "source": [
    "api = pybitflyer.API()\n",
    "data = api.ticker(product_code='BTC_JPY')"
   ]
  },
  {
   "cell_type": "code",
   "execution_count": null,
   "metadata": {
    "collapsed": false
   },
   "outputs": [],
   "source": [
    "data"
   ]
  },
  {
   "cell_type": "code",
   "execution_count": null,
   "metadata": {
    "collapsed": false
   },
   "outputs": [],
   "source": [
    "print(data['ltp']) # 最終取引価格\n",
    "print(data['best_ask']) # 最高買い価格\n",
    "print(data['best_bid']) # 最小売り価格"
   ]
  },
  {
   "cell_type": "code",
   "execution_count": null,
   "metadata": {
    "collapsed": true
   },
   "outputs": [],
   "source": [
    "# 単変量のLSTM\n",
    "# まずは最終取引価格だけで最終取引価格を予測"
   ]
  },
  {
   "cell_type": "code",
   "execution_count": null,
   "metadata": {
    "collapsed": true
   },
   "outputs": [],
   "source": [
    "import time\n",
    "from datetime import datetime"
   ]
  },
  {
   "cell_type": "code",
   "execution_count": null,
   "metadata": {
    "collapsed": false
   },
   "outputs": [],
   "source": [
    "btc_jpy_data = []\n",
    "count = 5\n",
    "api = pybitflyer.API()\n",
    "while True:\n",
    "    tick = api.ticker(product_code='BTC_JPY')\n",
    "    print('tick={} ltp={}'.format(len(btc_jpy_data), tick['ltp']))\n",
    "    btc_jpy_data.append(tick)\n",
    "    time.sleep(1)\n",
    "    if count <= len(btc_jpy_data):\n",
    "        break"
   ]
  },
  {
   "cell_type": "code",
   "execution_count": null,
   "metadata": {
    "collapsed": false
   },
   "outputs": [],
   "source": [
    "btc_jpy_data"
   ]
  },
  {
   "cell_type": "code",
   "execution_count": null,
   "metadata": {
    "collapsed": true
   },
   "outputs": [],
   "source": [
    "# ファイルから\n",
    "import json\n",
    "with open('volume/datasets/BTC_JPY.json', 'r') as f:\n",
    "    btc_jpy_data = json.load(f)"
   ]
  },
  {
   "cell_type": "code",
   "execution_count": null,
   "metadata": {
    "collapsed": false
   },
   "outputs": [],
   "source": [
    "btc_jpy_data"
   ]
  },
  {
   "cell_type": "code",
   "execution_count": null,
   "metadata": {
    "collapsed": true
   },
   "outputs": [],
   "source": [
    "# ltpだけ利用\n",
    "data = [[d['ltp']] for d in btc_jpy_data]"
   ]
  },
  {
   "cell_type": "code",
   "execution_count": null,
   "metadata": {
    "collapsed": false
   },
   "outputs": [],
   "source": [
    "data"
   ]
  },
  {
   "cell_type": "code",
   "execution_count": null,
   "metadata": {
    "collapsed": false
   },
   "outputs": [],
   "source": [
    "plt.figure()\n",
    "plt.plot(range(0, len(data)), data, color='r', label='data')\n",
    "plt.legend()\n",
    "plt.show()"
   ]
  },
  {
   "cell_type": "code",
   "execution_count": null,
   "metadata": {
    "collapsed": false
   },
   "outputs": [],
   "source": [
    "# 標準化\n",
    "# すべての値を0~1の範囲に納める\n",
    "from sklearn.preprocessing import MinMaxScaler\n",
    "scaler = MinMaxScaler(feature_range=(0, 1))\n",
    "normalized_data = scaler.fit_transform(data)\n",
    "print(normalized_data)"
   ]
  },
  {
   "cell_type": "code",
   "execution_count": null,
   "metadata": {
    "collapsed": false
   },
   "outputs": [],
   "source": [
    "train_data, train_label = create_reccurent_dataset(normalized_data, step=5)\n",
    "print(train_data.shape)\n",
    "print(train_label.shape)"
   ]
  },
  {
   "cell_type": "code",
   "execution_count": null,
   "metadata": {
    "collapsed": true
   },
   "outputs": [],
   "source": [
    "# モデル構築\n",
    "# 学習率の調整がキモ?? 0.00001だと200stepでも不安定、0.0001なら50step程度でEarlyStoppingする\n",
    "step_count = 5\n",
    "feature_count = 1\n",
    "hidden_unit_count = 300\n",
    "model = Sequential()\n",
    "model.add(LSTM(hidden_unit_count, batch_input_shape=(None, step_count, feature_count), return_sequences=False))\n",
    "model.add(Dense(feature_count))\n",
    "model.add(Activation('linear'))\n",
    "optimizer = Adam(lr=0.0001) # 学習率 0.001 -> 0.003 -> 0.03 -> 0.01\n",
    "model.compile(loss='mean_squared_error', optimizer=optimizer)\n",
    "early_stopping = EarlyStopping(monitor='val_loss', mode='auto', patience=0)"
   ]
  },
  {
   "cell_type": "code",
   "execution_count": null,
   "metadata": {
    "collapsed": false
   },
   "outputs": [],
   "source": [
    "# トレーニング\n",
    "model.fit(\n",
    "    train_data, train_label,\n",
    "    batch_size=2000,\n",
    "    epochs=200,\n",
    "    validation_split=0.1,\n",
    "    callbacks=[early_stopping]\n",
    ")"
   ]
  },
  {
   "cell_type": "code",
   "execution_count": null,
   "metadata": {
    "collapsed": false
   },
   "outputs": [],
   "source": [
    "model.predict(np.array([[[1.0],[0.8],[0.6],[0.4],[0.2]]]))[0][0]"
   ]
  },
  {
   "cell_type": "code",
   "execution_count": null,
   "metadata": {
    "collapsed": false
   },
   "outputs": [],
   "source": [
    "model.predict(np.array([[[0.0],[0.0],[0.0],[0.0],[0.0]]]))[0][0]"
   ]
  },
  {
   "cell_type": "code",
   "execution_count": null,
   "metadata": {
    "collapsed": false
   },
   "outputs": [],
   "source": [
    "model.predict(np.array([[[1.0],[1.0],[1.0],[1.0],[1.0]]]))[0][0]"
   ]
  },
  {
   "cell_type": "code",
   "execution_count": null,
   "metadata": {
    "collapsed": false
   },
   "outputs": [],
   "source": [
    "model.predict(np.array([[[0.2],[0.4],[0.6],[0.8],[1.0]]]))[0][0]"
   ]
  },
  {
   "cell_type": "code",
   "execution_count": null,
   "metadata": {
    "collapsed": true
   },
   "outputs": [],
   "source": [
    "# 推論、検証\n",
    "predictions = model.predict(train_data)"
   ]
  },
  {
   "cell_type": "code",
   "execution_count": null,
   "metadata": {
    "collapsed": false
   },
   "outputs": [],
   "source": [
    "plt.figure()\n",
    "plt.plot(range(0, len(predictions)), predictions, color='r', label='predictions')\n",
    "plt.plot(range(0, len(train_label)), train_label, color='b', label='train_label')\n",
    "plt.legend()\n",
    "plt.show()"
   ]
  },
  {
   "cell_type": "code",
   "execution_count": null,
   "metadata": {
    "collapsed": true
   },
   "outputs": [],
   "source": [
    "# 未来予測\n",
    "latest_data = train_data[len(train_data)-1]\n",
    "results = np.empty((0, 0))\n",
    "for _ in range(50):\n",
    "    # 推論\n",
    "    test_data = np.reshape(latest_data, (1, 5, 1))\n",
    "    batch_predict = model.predict(test_data)\n",
    "    # 結果蓄積\n",
    "    results = np.append(results, batch_predict)\n",
    "    # 次のデータをセット\n",
    "    latest_data = np.delete(latest_data, 0)\n",
    "    latest_data = np.append(latest_data, batch_predict)\n",
    "\n",
    "# (個数)から(個数,1)に形状を変える\n",
    "results = np.reshape(results, (results.shape[0], 1))"
   ]
  },
  {
   "cell_type": "code",
   "execution_count": null,
   "metadata": {
    "collapsed": false
   },
   "outputs": [],
   "source": [
    "plt.figure()\n",
    "plt.plot(range(0, len(predictions)), predictions, color='r', label='predictions')\n",
    "plt.plot(range(0, len(train_label)), train_label, color='b', label='train_label')\n",
    "plt.plot(range(len(train_label)-1, len(train_label)-1+len(results)), results, color='g', label='future_predictions')\n",
    "plt.legend()\n",
    "plt.show()"
   ]
  },
  {
   "cell_type": "code",
   "execution_count": null,
   "metadata": {
    "collapsed": false
   },
   "outputs": [],
   "source": [
    "# 多変量のLSTM\n",
    "# 利用する特徴 ltp, best_ask, best_bid"
   ]
  },
  {
   "cell_type": "code",
   "execution_count": null,
   "metadata": {
    "collapsed": true
   },
   "outputs": [],
   "source": [
    "ltp_data = np.array([[d['ltp']] for d in btc_jpy_data])\n",
    "best_ask_data = np.array([[d['best_ask']] for d in btc_jpy_data])\n",
    "best_bid_data = np.array([[d['best_bid']] for d in btc_jpy_data])"
   ]
  },
  {
   "cell_type": "code",
   "execution_count": null,
   "metadata": {
    "collapsed": true
   },
   "outputs": [],
   "source": [
    "# 標準化\n",
    "scaler = MinMaxScaler(feature_range=(0, 1))\n",
    "ltp_data = scaler.fit_transform(ltp_data)\n",
    "best_ask_data = scaler.fit_transform(best_ask_data)\n",
    "best_bid_data = scaler.fit_transform(best_bid_data)"
   ]
  },
  {
   "cell_type": "code",
   "execution_count": null,
   "metadata": {
    "collapsed": false
   },
   "outputs": [],
   "source": [
    "plt.figure()\n",
    "plt.plot(range(0, len(ltp_data)), ltp_data, color='r', label='ltp')\n",
    "plt.plot(range(0, len(best_ask_data)), best_ask_data, color='g', label='best_ask')\n",
    "plt.plot(range(0, len(best_bid_data)), best_bid_data, color='b', label='best_bid')\n",
    "plt.legend()\n",
    "plt.show()"
   ]
  },
  {
   "cell_type": "code",
   "execution_count": null,
   "metadata": {
    "collapsed": true
   },
   "outputs": [],
   "source": [
    "ltp_train_data, ltp_train_label = create_reccurent_dataset(ltp_data, step=5)\n",
    "best_ask_train_data, best_ask_train_label = create_reccurent_dataset(best_ask_data, step=5)\n",
    "best_bid_train_data, best_bid_train_label = create_reccurent_dataset(best_bid_data, step=5)"
   ]
  },
  {
   "cell_type": "code",
   "execution_count": null,
   "metadata": {
    "collapsed": false
   },
   "outputs": [],
   "source": [
    "print(ltp_train_data.shape)\n",
    "print(best_ask_train_data.shape)\n",
    "print(best_bid_train_data.shape)"
   ]
  },
  {
   "cell_type": "code",
   "execution_count": null,
   "metadata": {
    "collapsed": false
   },
   "outputs": [],
   "source": [
    "print(ltp_train_label.shape)\n",
    "print(best_ask_train_label.shape)\n",
    "print(best_bid_train_label.shape)"
   ]
  },
  {
   "cell_type": "code",
   "execution_count": null,
   "metadata": {
    "collapsed": false
   },
   "outputs": [],
   "source": [
    "# 推論する際の形状 = (個数, ステップ数, 特徴量)\n",
    "# 前回の推論時の形状 = (個数, 5, 1)\n",
    "# 今回の推論時の形状 = (個数, 5, 3)\n",
    "# 入力も出力もltp, best_ask, best_bidの3つ\n",
    "train_data = np.c_[ltp_train_data, best_ask_train_data, best_bid_train_data]\n",
    "train_label = np.c_[ltp_train_label, best_ask_train_label, best_bid_train_label]\n",
    "print(train_data.shape)\n",
    "print(train_label.shape)"
   ]
  },
  {
   "cell_type": "code",
   "execution_count": null,
   "metadata": {
    "collapsed": true
   },
   "outputs": [],
   "source": [
    "# モデル構築\n",
    "step_count = 5\n",
    "feature_count = 3\n",
    "hidden_unit_count = 300\n",
    "\n",
    "model = Sequential()\n",
    "model.add(LSTM(hidden_unit_count, batch_input_shape=(None, step_count, feature_count), return_sequences=False))\n",
    "model.add(Dense(feature_count))\n",
    "model.add(Activation('linear'))\n",
    "optimizer = Adam(lr=0.001)\n",
    "model.compile(loss='mean_squared_error', optimizer=optimizer)\n",
    "early_stopping = EarlyStopping(monitor='val_loss', mode='auto', patience=20)"
   ]
  },
  {
   "cell_type": "code",
   "execution_count": null,
   "metadata": {
    "collapsed": false
   },
   "outputs": [],
   "source": [
    "# トレーニング\n",
    "model.fit(\n",
    "    train_data, train_label,\n",
    "    batch_size=2000,\n",
    "    epochs=200,\n",
    "    validation_split=0.1,\n",
    "    callbacks=[early_stopping]\n",
    ")"
   ]
  },
  {
   "cell_type": "code",
   "execution_count": null,
   "metadata": {
    "collapsed": true
   },
   "outputs": [],
   "source": [
    "# 推論、検証\n",
    "predictions = model.predict(train_data)"
   ]
  },
  {
   "cell_type": "code",
   "execution_count": null,
   "metadata": {
    "collapsed": false
   },
   "outputs": [],
   "source": [
    "plt.figure()\n",
    "plt.plot(range(0, len(train_label)), train_label[:,0], color=(1.0, 0.7, 0.7), label='train_label ltp')\n",
    "plt.plot(range(0, len(train_label)), train_label[:,1], color=(0.7, 1.0, 0.7), label='train_label best_ask')\n",
    "plt.plot(range(0, len(train_label)), train_label[:,2], color=(0.7, 0.7, 1.0), label='train_label best_bid')\n",
    "plt.plot(range(0, len(predictions)), predictions[:,0], color=(1.0, 0.0, 0.0), label='predictions ltp')\n",
    "plt.plot(range(0, len(predictions)), predictions[:,1], color=(0.0, 1.0, 0.0), label='predictions best_ask')\n",
    "plt.plot(range(0, len(predictions)), predictions[:,2], color=(0.0, 0.0, 1.0), label='predictions best_bid')\n",
    "plt.legend()\n",
    "plt.show()"
   ]
  },
  {
   "cell_type": "code",
   "execution_count": null,
   "metadata": {
    "collapsed": false
   },
   "outputs": [],
   "source": [
    "latest_data = np.array([train_data[len(train_data)-1]])\n",
    "results = []\n",
    "for _ in range(50):\n",
    "    # 推論\n",
    "    batch_predict = model.predict(latest_data)\n",
    "    # 結果蓄積\n",
    "    results.append([batch_predict[0][0], batch_predict[0][1], batch_predict[0][2]])\n",
    "    # 次のデータをセット\n",
    "    latest_data = np.delete(latest_data, np.array([batch_predict]), axis=1)\n",
    "    latest_data = np.append(latest_data, np.array([batch_predict]), axis=1)\n",
    "results = np.array(results)\n",
    "results.shape"
   ]
  },
  {
   "cell_type": "code",
   "execution_count": null,
   "metadata": {
    "collapsed": false
   },
   "outputs": [],
   "source": [
    "plt.figure()\n",
    "plt.plot(range(0, len(train_label)), train_label[:,0], color=(1.0, 0.7, 0.7), label='train_label ltp')\n",
    "plt.plot(range(0, len(train_label)), train_label[:,1], color=(0.7, 1.0, 0.7), label='train_label best_ask')\n",
    "plt.plot(range(0, len(train_label)), train_label[:,2], color=(0.7, 0.7, 1.0), label='train_label best_bid')\n",
    "plt.plot(range(len(train_label)-1, len(train_label)-1+len(results)), results[:,0], color=(1.0, 0.0, 0.0), label='future ltp')\n",
    "plt.plot(range(len(train_label)-1, len(train_label)-1+len(results)), results[:,1], color=(0.0, 1.0, 0.0), label='future best_ask')\n",
    "plt.plot(range(len(train_label)-1, len(train_label)-1+len(results)), results[:,2], color=(0.0, 0.0, 1.0), label='future best_bid')\n",
    "plt.legend()\n",
    "plt.show()"
   ]
  },
  {
   "cell_type": "code",
   "execution_count": null,
   "metadata": {
    "collapsed": true
   },
   "outputs": [],
   "source": [
    "# TODO: リアルタイム予測 and 学習\n",
    "# 特徴量を増やすと良いかもしれない 最大、最小、ローソク足の最大最小、関連ニュース数(良し悪し別)、曜日"
   ]
  },
  {
   "cell_type": "code",
   "execution_count": null,
   "metadata": {
    "collapsed": true
   },
   "outputs": [],
   "source": [
    "# TODO: RNN  word2vec"
   ]
  },
  {
   "cell_type": "code",
   "execution_count": null,
   "metadata": {
    "collapsed": true
   },
   "outputs": [],
   "source": [
    "# 参考\n",
    "# https://deepage.net/bigdata/machine_learning/2016/09/02/word2vec_power_of_word_vector.html\n",
    "# https://qiita.com/Hironsan/items/513b9f93752ecee9e670\n",
    "# https://qiita.com/Hironsan/items/11b388575a058dc8a46a\n",
    "# https://qiita.com/kenta1984/items/93b64768494f971edf86"
   ]
  },
  {
   "cell_type": "code",
   "execution_count": null,
   "metadata": {
    "collapsed": true
   },
   "outputs": [],
   "source": [
    "import gensim"
   ]
  },
  {
   "cell_type": "code",
   "execution_count": null,
   "metadata": {
    "collapsed": false
   },
   "outputs": [],
   "source": [
    "model = gensim.models.KeyedVectors.load_word2vec_format('volume/models/word2vec.vec', binary=False)"
   ]
  },
  {
   "cell_type": "code",
   "execution_count": null,
   "metadata": {
    "collapsed": false
   },
   "outputs": [],
   "source": [
    "# model == model.wv # ただのエイリアスっぽい\n",
    "model['ピザ'].shape"
   ]
  },
  {
   "cell_type": "code",
   "execution_count": null,
   "metadata": {
    "collapsed": false
   },
   "outputs": [],
   "source": [
    "model['ピザ']"
   ]
  },
  {
   "cell_type": "code",
   "execution_count": null,
   "metadata": {
    "collapsed": false
   },
   "outputs": [],
   "source": [
    "# 類似語と類似度\n",
    "model.most_similar(positive=['ピザ']) # or model.similar_by_word('ピザ')"
   ]
  },
  {
   "cell_type": "code",
   "execution_count": null,
   "metadata": {
    "collapsed": false
   },
   "outputs": [],
   "source": [
    "model.most_similar(negative=['ピザ'])"
   ]
  },
  {
   "cell_type": "code",
   "execution_count": null,
   "metadata": {
    "collapsed": false
   },
   "outputs": [],
   "source": [
    "# 類似度\n",
    "print(model.similarity('ピザ', 'ハンバーガー'))\n",
    "print(model.similarity('ピザ', 'パン'))\n",
    "print(model.similarity('ピザ', 'スプーン'))\n",
    "print(model.similarity('ピザ', 'イス'))"
   ]
  },
  {
   "cell_type": "code",
   "execution_count": null,
   "metadata": {
    "collapsed": false
   },
   "outputs": [],
   "source": [
    "# ベクトルから類似語と類似度\n",
    "vector = model['ピザ']\n",
    "model.similar_by_vector(vector)"
   ]
  },
  {
   "cell_type": "code",
   "execution_count": null,
   "metadata": {
    "collapsed": false
   },
   "outputs": [],
   "source": [
    "vector = model['王'] - model['男'] + model['女']\n",
    "model.similar_by_vector(vector)"
   ]
  },
  {
   "cell_type": "code",
   "execution_count": null,
   "metadata": {
    "collapsed": true
   },
   "outputs": [],
   "source": []
  },
  {
   "cell_type": "code",
   "execution_count": null,
   "metadata": {
    "collapsed": true
   },
   "outputs": [],
   "source": []
  },
  {
   "cell_type": "code",
   "execution_count": null,
   "metadata": {
    "collapsed": true
   },
   "outputs": [],
   "source": []
  },
  {
   "cell_type": "code",
   "execution_count": null,
   "metadata": {
    "collapsed": true
   },
   "outputs": [],
   "source": []
  },
  {
   "cell_type": "code",
   "execution_count": null,
   "metadata": {
    "collapsed": true
   },
   "outputs": [],
   "source": []
  }
 ],
 "metadata": {
  "anaconda-cloud": {},
  "kernelspec": {
   "display_name": "Python [default]",
   "language": "python",
   "name": "python3"
  },
  "language_info": {
   "codemirror_mode": {
    "name": "ipython",
    "version": 3
   },
   "file_extension": ".py",
   "mimetype": "text/x-python",
   "name": "python",
   "nbconvert_exporter": "python",
   "pygments_lexer": "ipython3",
   "version": "3.5.2"
  }
 },
 "nbformat": 4,
 "nbformat_minor": 1
}
